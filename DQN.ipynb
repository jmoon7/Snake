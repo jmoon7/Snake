{
 "cells": [
  {
   "cell_type": "code",
   "execution_count": 1,
   "metadata": {},
   "outputs": [
    {
     "name": "stderr",
     "output_type": "stream",
     "text": [
      "Using TensorFlow backend.\n"
     ]
    }
   ],
   "source": [
    "import gym\n",
    "import matplotlib.pyplot as plt\n",
    "%matplotlib inline\n",
    "import numpy as np\n",
    "import random\n",
    "\n",
    "from keras.models import Sequential\n",
    "from keras.layers import Dense, Activation"
   ]
  },
  {
   "cell_type": "code",
   "execution_count": 2,
   "metadata": {},
   "outputs": [],
   "source": [
    "from snake import SnakeEnv\n",
    "\n",
    "env = SnakeEnv(size=5)\n",
    "\n",
    "for episode in range(1):\n",
    "    observation = env.reset()\n",
    "    while True:\n",
    "        action = env.action_space.sample()\n",
    "        observation, reward, done, info = env.step(action)\n",
    "        if done:\n",
    "            break"
   ]
  },
  {
   "cell_type": "code",
   "execution_count": 3,
   "metadata": {
    "collapsed": true
   },
   "outputs": [],
   "source": [
    "\"\"\"\n",
    "Environment Parameters\n",
    "\"\"\"\n",
    "observation_space = 5*5\n",
    "action_space = 5\n",
    "seed = 10\n",
    "\n",
    "\"\"\"\n",
    "Agent Parameters\n",
    "\"\"\"\n",
    "episodes = 5000\n",
    "epsilon_init = 1.0\n",
    "epsilon_decay = 0.002\n",
    "epsilon_min = 0.1\n",
    "gamma = 0.99\n",
    "\n",
    "\"\"\"\n",
    "Model Parameters\n",
    "\"\"\"\n",
    "batch_size = 128\n",
    "hidden_dims = 32\n",
    "activation = 'relu'\n",
    "optim = 'rmsprop'\n",
    "loss_func = 'mse'"
   ]
  },
  {
   "cell_type": "code",
   "execution_count": 4,
   "metadata": {
    "collapsed": true
   },
   "outputs": [],
   "source": [
    "random.seed(seed)\n",
    "np.random.seed(seed)"
   ]
  },
  {
   "cell_type": "code",
   "execution_count": 5,
   "metadata": {},
   "outputs": [],
   "source": [
    "class DQN:\n",
    "    def __init__(self):\n",
    "        self.model = self.build_dqn()\n",
    "        self.latest = None\n",
    "        # experience replay\n",
    "        self.buffer = []\n",
    "        \n",
    "    def build_dqn(self):\n",
    "        dqn = Sequential()\n",
    "        dqn.add(Dense(hidden_dims, input_shape=(observation_space,)))\n",
    "        dqn.add(Activation(activation))\n",
    "        \n",
    "        dqn.add(Dense(hidden_dims))\n",
    "        dqn.add(Activation(activation))\n",
    "        \n",
    "        dqn.add(Dense(action_space))\n",
    "        dqn.compile(optimizer=optim, loss=loss_func)\n",
    "        return dqn\n",
    "    \n",
    "    def train(self):\n",
    "        batch = random.sample(self.buffer, batch_size)\n",
    "        inputs = []\n",
    "        labels = []\n",
    "        for sample in batch:\n",
    "            s, a, r, s_p, d = sample\n",
    "            \n",
    "            s = np.reshape(s.flatten(), (1, observation_space))\n",
    "            s_p = np.reshape(s_p.flatten(), (1, observation_space))\n",
    "            \n",
    "            inputs.append(s)\n",
    "            label = self.predict(s)\n",
    "            label[0][a] = r\n",
    "            if not d:\n",
    "                label[0][a] += gamma*np.max(self.target_predict(s_p))\n",
    "            labels.append(label)\n",
    "        inputs = np.squeeze(np.array(inputs), axis=1)\n",
    "        labels = np.squeeze(np.array(labels), axis=1)\n",
    "        self.model.fit(inputs, labels, verbose=0)\n",
    "        \n",
    "    def predict(self, s):\n",
    "        return self.model.predict(s)\n",
    "    \n",
    "    def target_predict(self, s):\n",
    "        return self.model.predict(s)\n",
    "    \n",
    "    def record_state_tuple(self, state_tuple):\n",
    "        #self.latest = state_tuple\n",
    "        self.buffer.append(state_tuple)"
   ]
  },
  {
   "cell_type": "code",
   "execution_count": 6,
   "metadata": {
    "collapsed": true
   },
   "outputs": [],
   "source": [
    "simple_dqn = DQN()"
   ]
  },
  {
   "cell_type": "code",
   "execution_count": 7,
   "metadata": {},
   "outputs": [],
   "source": [
    "def run_episode(env, model, epsilon=0.0,\n",
    "                training=False, render=False):\n",
    "    total_reward = 0\n",
    "    done = False\n",
    "    state = np.expand_dims(env.reset(), 0)\n",
    "    state = np.reshape(state.flatten(), (1, observation_space))\n",
    "\n",
    "    frames = []\n",
    "    while not done:\n",
    "        if render:\n",
    "            pass\n",
    "#             env.render()\n",
    "        if training and random.random() < epsilon:\n",
    "            action = env.action_space.sample()\n",
    "        else:\n",
    "            q_values = model.predict(state)\n",
    "            action = np.argmax(q_values)\n",
    "        next_state, reward, done, _ = env.step(action)\n",
    "        next_state = np.expand_dims(next_state, 0)\n",
    "        \n",
    "        next_state = np.reshape(state.flatten(), (1, observation_space))\n",
    "        \n",
    "        total_reward += reward\n",
    "        if training:\n",
    "            exp_tuple = (state, action, reward, next_state, done)\n",
    "            model.record_state_tuple(exp_tuple)\n",
    "        state = next_state\n",
    "    if training:\n",
    "        model.train()\n",
    "    epsilon -= epsilon_decay\n",
    "    epsilon = max(epsilon, epsilon_min)\n",
    "    return total_reward, epsilon"
   ]
  },
  {
   "cell_type": "code",
   "execution_count": 8,
   "metadata": {
    "collapsed": true
   },
   "outputs": [],
   "source": [
    "def warmup_buffer(env, model):\n",
    "    for _ in range(50):\n",
    "        done = False\n",
    "        state = np.expand_dims(env.reset(), 0)\n",
    "        while not done:\n",
    "            action = env.action_space.sample()\n",
    "            next_state, reward, done, _ = env.step(action)\n",
    "            next_state = np.expand_dims(next_state, 0)\n",
    "            exp_tuple = (state, action, reward, next_state, done)\n",
    "            model.record_state_tuple(exp_tuple)\n",
    "            state = next_state"
   ]
  },
  {
   "cell_type": "code",
   "execution_count": 9,
   "metadata": {
    "collapsed": true
   },
   "outputs": [],
   "source": [
    "\"\"\"\n",
    "Target Network Parameters\n",
    "\"\"\"\n",
    "target_decay = 0.99"
   ]
  },
  {
   "cell_type": "code",
   "execution_count": 10,
   "metadata": {
    "collapsed": true
   },
   "outputs": [],
   "source": [
    "class TargetDQN(DQN):\n",
    "    def __init__(self):\n",
    "        self.target = self.build_dqn()\n",
    "        super(TargetDQN, self).__init__()\n",
    "        \n",
    "    def train(self):\n",
    "        super(TargetDQN, self).train()\n",
    "        self.update_target()\n",
    "        \n",
    "    # Exponentially weighted average\n",
    "    def update_target(self):\n",
    "        model_weights = self.model.get_weights()\n",
    "        target_weights = self.target.get_weights()\n",
    "        for i in range(len(target_weights)):\n",
    "            target_weights[i] = target_decay * target_weights[i] + \\\n",
    "                                (1 - target_decay) * model_weights[i]\n",
    "        self.target.set_weights(target_weights)\n",
    "    \n",
    "    def target_predict(self, s):\n",
    "        return self.target.predict(s)"
   ]
  },
  {
   "cell_type": "code",
   "execution_count": 11,
   "metadata": {
    "collapsed": true
   },
   "outputs": [],
   "source": [
    "better_dqn = TargetDQN()"
   ]
  },
  {
   "cell_type": "code",
   "execution_count": 12,
   "metadata": {},
   "outputs": [
    {
     "name": "stdout",
     "output_type": "stream",
     "text": [
      "Average total reward for episode 1 through 100: 1.4\n",
      "Average total reward for episode 101 through 200: 1.8\n",
      "Average total reward for episode 201 through 300: 2.1\n",
      "Average total reward for episode 301 through 400: 2.1\n",
      "Average total reward for episode 401 through 500: 3.0\n",
      "Average total reward for episode 501 through 600: 1.9\n",
      "Average total reward for episode 601 through 700: 3.1\n",
      "Average total reward for episode 701 through 800: 2.9\n",
      "Average total reward for episode 801 through 900: 2.7\n",
      "Average total reward for episode 901 through 1000: 2.5\n",
      "Average total reward for episode 1001 through 1100: 2.3\n",
      "Average total reward for episode 1101 through 1200: 2.9\n",
      "Average total reward for episode 1201 through 1300: 3.5\n",
      "Average total reward for episode 1301 through 1400: 1.8\n",
      "Average total reward for episode 1401 through 1500: 2.8\n",
      "Average total reward for episode 1501 through 1600: 2.3\n",
      "Average total reward for episode 1601 through 1700: 2.2\n",
      "Average total reward for episode 1701 through 1800: 3.3\n",
      "Average total reward for episode 1801 through 1900: 2.9\n",
      "Average total reward for episode 1901 through 2000: 2.3\n",
      "Average total reward for episode 2001 through 2100: 2.3\n",
      "Average total reward for episode 2101 through 2200: 1.8\n",
      "Average total reward for episode 2201 through 2300: 2.7\n",
      "Average total reward for episode 2301 through 2400: 2.7\n",
      "Average total reward for episode 2401 through 2500: 2.9\n",
      "Average total reward for episode 2501 through 2600: 3.2\n",
      "Average total reward for episode 2601 through 2700: 3.1\n",
      "Average total reward for episode 2701 through 2800: 2.3\n",
      "Average total reward for episode 2801 through 2900: 2.2\n",
      "Average total reward for episode 2901 through 3000: 2.6\n",
      "Average total reward for episode 3001 through 3100: 3.3\n",
      "Average total reward for episode 3101 through 3200: 2.0\n",
      "Average total reward for episode 3201 through 3300: 3.3\n",
      "Average total reward for episode 3301 through 3400: 2.3\n",
      "Average total reward for episode 3401 through 3500: 2.9\n",
      "Average total reward for episode 3501 through 3600: 3.1\n",
      "Average total reward for episode 3601 through 3700: 1.9\n",
      "Average total reward for episode 3701 through 3800: 2.3\n",
      "Average total reward for episode 3801 through 3900: 3.2\n",
      "Average total reward for episode 3901 through 4000: 2.4\n",
      "Average total reward for episode 4001 through 4100: 2.3\n",
      "Average total reward for episode 4101 through 4200: 2.9\n",
      "Average total reward for episode 4201 through 4300: 2.2\n",
      "Average total reward for episode 4301 through 4400: 2.2\n",
      "Average total reward for episode 4401 through 4500: 2.0\n",
      "Average total reward for episode 4501 through 4600: 3.2\n",
      "Average total reward for episode 4601 through 4700: 3.4\n",
      "Average total reward for episode 4701 through 4800: 2.4\n",
      "Average total reward for episode 4801 through 4900: 3.0\n",
      "Average total reward for episode 4901 through 5000: 2.8\n"
     ]
    }
   ],
   "source": [
    "warmup_buffer(env, better_dqn)\n",
    "eps = epsilon_init\n",
    "sum_reward = 0\n",
    "\n",
    "avgs = []\n",
    "\n",
    "for episode in range(1, episodes+1):\n",
    "    r, eps = run_episode(env, better_dqn, epsilon=eps, training=True)\n",
    "    sum_reward += r\n",
    "    if episode % 100 == 0:\n",
    "        avg = sum_reward / 100\n",
    "        sum_reward = 0\n",
    "        start = episode - 99\n",
    "        avgs.append(avg)\n",
    "        print(\"Average total reward for episode \" + \\\n",
    "              f\"{start} through {episode}: {avg}\")"
   ]
  },
  {
   "cell_type": "code",
   "execution_count": 13,
   "metadata": {},
   "outputs": [
    {
     "data": {
      "image/png": "[encoded data removed]",
      "text/plain": [
       "<matplotlib.figure.Figure at 0x11cb41940>"
      ]
     },
     "metadata": {},
     "output_type": "display_data"
    }
   ],
   "source": [
    "plt.plot(avgs)\n",
    "plt.title('Simple DQN')\n",
    "plt.show()"
   ]
  },
  {
   "cell_type": "code",
   "execution_count": null,
   "metadata": {
    "collapsed": true
   },
   "outputs": [],
   "source": []
  }
 ],
 "metadata": {
  "kernelspec": {
   "display_name": "Python 3",
   "language": "python",
   "name": "python3"
  },
  "language_info": {
   "codemirror_mode": {
    "name": "ipython",
    "version": 3
   },
   "file_extension": ".py",
   "mimetype": "text/x-python",
   "name": "python",
   "nbconvert_exporter": "python",
   "pygments_lexer": "ipython3",
   "version": "3.6.2"
  }
 },
 "nbformat": 4,
 "nbformat_minor": 2
}
